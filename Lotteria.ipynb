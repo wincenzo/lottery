{
 "cells": [
  {
   "cell_type": "markdown",
   "metadata": {
    "colab_type": "text",
    "id": "GEN4WxNF0M42"
   },
   "source": [
    "CON IL **SET**"
   ]
  },
  {
   "cell_type": "code",
   "execution_count": 19,
   "metadata": {
    "colab": {},
    "colab_type": "code",
    "id": "EqYyPOiD0M45"
   },
   "outputs": [],
   "source": [
    "from random import randint as rint\n",
    "from datetime import datetime\n",
    "\n",
    "\n",
    "def estrazione(maximo):\n",
    "    while True:\n",
    "        yield rint(1,maximo)\n",
    "\n",
    "\n",
    "def lotteria(maximo):\n",
    "\n",
    "    numeri = {next(estrazione(maximo))}\n",
    "    if maximo == 90:\n",
    "        lunghezza = 6\n",
    "        superstar = f'\\nIl numero superstar è: {next(estrazione(maximo))}'\n",
    "    else:\n",
    "        lunghezza = 5\n",
    "        superstar = ''\n",
    "\n",
    "    while len(numeri) != lunghezza :\n",
    "        numeri.add(next(estrazione(maximo)))\n",
    "    numeri = sorted(list(numeri))\n",
    "\n",
    "    now = datetime.now().strftime(\"%d/%m/%Y %H:%M:%S\")\n",
    "\n",
    "    print(f'Estrazione del: {now}\\nI numeri estratti sono:')\n",
    "    print(*numeri, superstar)\n"
   ]
  },
  {
   "cell_type": "code",
   "execution_count": 20,
   "metadata": {
    "colab": {
     "base_uri": "https://localhost:8080/",
     "height": 58
    },
    "colab_type": "code",
    "executionInfo": {
     "elapsed": 694,
     "status": "ok",
     "timestamp": 1585037680338,
     "user": {
      "displayName": "Vincenzo T",
      "photoUrl": "",
      "userId": "05137668421568252915"
     },
     "user_tz": -60
    },
    "id": "L3iy-vhItnLl",
    "outputId": "40b59a90-b915-4a8d-ebcd-616302858f4e"
   },
   "outputs": [
    {
     "name": "stdout",
     "output_type": "stream",
     "text": [
      "Estrazione del: 02/04/2020 19:41:38\n",
      "I numeri estratti sono:\n",
      "23 30 32 44 48 \n"
     ]
    }
   ],
   "source": [
    "lotteria(55)"
   ]
  },
  {
   "cell_type": "code",
   "execution_count": 21,
   "metadata": {
    "colab": {
     "base_uri": "https://localhost:8080/",
     "height": 78
    },
    "colab_type": "code",
    "executionInfo": {
     "elapsed": 678,
     "status": "ok",
     "timestamp": 1585037683331,
     "user": {
      "displayName": "Vincenzo T",
      "photoUrl": "",
      "userId": "05137668421568252915"
     },
     "user_tz": -60
    },
    "id": "Xh1iBxIe-CHF",
    "outputId": "6ff77efe-a441-49fe-a161-9ec4919f71f1"
   },
   "outputs": [
    {
     "name": "stdout",
     "output_type": "stream",
     "text": [
      "Estrazione del: 02/04/2020 19:41:38\n",
      "I numeri estratti sono:\n",
      "29 30 42 62 64 90 \n",
      "Il numero superstar è: 83\n"
     ]
    }
   ],
   "source": [
    "lotteria(90)"
   ]
  },
  {
   "cell_type": "code",
   "execution_count": null,
   "metadata": {},
   "outputs": [],
   "source": []
  }
 ],
 "metadata": {
  "colab": {
   "collapsed_sections": [],
   "name": "Lotteria.ipynb",
   "provenance": []
  },
  "kernelspec": {
   "display_name": "Python 3",
   "language": "python",
   "name": "python3"
  },
  "language_info": {
   "codemirror_mode": {
    "name": "ipython",
    "version": 3
   },
   "file_extension": ".py",
   "mimetype": "text/x-python",
   "name": "python",
   "nbconvert_exporter": "python",
   "pygments_lexer": "ipython3",
   "version": "3.7.6"
  }
 },
 "nbformat": 4,
 "nbformat_minor": 4
}
