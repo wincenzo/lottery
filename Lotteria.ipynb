{
  "nbformat": 4,
  "nbformat_minor": 0,
  "metadata": {
    "colab": {
      "name": "Lotteria.ipynb",
      "provenance": [],
      "collapsed_sections": []
    },
    "kernelspec": {
      "display_name": "Python 3",
      "language": "python",
      "name": "python3"
    },
    "language_info": {
      "codemirror_mode": {
        "name": "ipython",
        "version": 3
      },
      "file_extension": ".py",
      "mimetype": "text/x-python",
      "name": "python",
      "nbconvert_exporter": "python",
      "pygments_lexer": "ipython3",
      "version": "3.7.7"
    }
  },
  "cells": [
    {
      "cell_type": "markdown",
      "metadata": {
        "id": "GEN4WxNF0M42"
      },
      "source": [
        "CON IL **SET**"
      ]
    },
    {
      "cell_type": "code",
      "metadata": {
        "id": "EqYyPOiD0M45"
      },
      "source": [
        "from random import randint as rnt\n",
        "from datetime import datetime\n",
        "\n",
        "\n",
        "\n",
        "def lotteria(maximo):\n",
        "\n",
        "    def pallottoliere(maximo):\n",
        "        while True:\n",
        "            yield rnt(1,maximo)\n",
        "\n",
        "    def estrazione():\n",
        "        return next(pallottoliere(maximo))\n",
        " \n",
        "    numeri = {estrazione()}\n",
        "\n",
        "    if maximo == 90:\n",
        "        lunghezza = 6\n",
        "        superstar = f'\\nIl numero superstar è: {estrazione()}'\n",
        "    else:\n",
        "        lunghezza = 5\n",
        "        superstar = ''\n",
        "\n",
        "    while len(numeri) != lunghezza :\n",
        "        numeri.add(estrazione())\n",
        "        \n",
        "    numeri = sorted(list(numeri))\n",
        "\n",
        "    now = datetime.now().strftime(\"%d/%m/%Y %H:%M:%S\")\n",
        "\n",
        "    print(f'Estrazione del: {now}\\nI numeri estratti sono:', *numeri, superstar)"
      ],
      "execution_count": 24,
      "outputs": []
    },
    {
      "cell_type": "code",
      "metadata": {
        "colab": {
          "base_uri": "https://localhost:8080/"
        },
        "id": "L3iy-vhItnLl",
        "outputId": "9d797354-fcc0-4322-8ebf-1dcc71edb3c7"
      },
      "source": [
        "lotteria(55)"
      ],
      "execution_count": 25,
      "outputs": [
        {
          "output_type": "stream",
          "text": [
            "Estrazione del: 29/11/2020 11:06:58\n",
            "I numeri estratti sono: 15 17 26 32 50 \n"
          ],
          "name": "stdout"
        }
      ]
    },
    {
      "cell_type": "code",
      "metadata": {
        "colab": {
          "base_uri": "https://localhost:8080/"
        },
        "id": "Xh1iBxIe-CHF",
        "outputId": "339a5bff-6205-4c38-d58f-214d343285a9"
      },
      "source": [
        "lotteria(90)"
      ],
      "execution_count": 26,
      "outputs": [
        {
          "output_type": "stream",
          "text": [
            "Estrazione del: 29/11/2020 11:07:01\n",
            "I numeri estratti sono: 30 34 44 58 65 66 \n",
            "Il numero superstar è: 4\n"
          ],
          "name": "stdout"
        }
      ]
    },
    {
      "cell_type": "code",
      "metadata": {
        "id": "DT13rLUVnomE"
      },
      "source": [
        ""
      ],
      "execution_count": null,
      "outputs": []
    }
  ]
}